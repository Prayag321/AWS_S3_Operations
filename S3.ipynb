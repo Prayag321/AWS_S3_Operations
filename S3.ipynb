{
 "cells": [
  {
   "cell_type": "markdown",
   "metadata": {},
   "source": [
    "\"\"\"<br>\n",
    "    @Author: Prayag Bhoir<br>\n",
    "    @Date: 10-09-2024 <br>\n",
    "    @Last Modified by: Prayag Bhoir<br>\n",
    "    @Last Modified time: 11-09-2024 <br>\n",
    "    @Title : Python programs on boto3 crud operations and large file transfer<br>\n",
    "\"\"\""
   ]
  },
  {
   "cell_type": "code",
   "execution_count": 2,
   "metadata": {},
   "outputs": [],
   "source": [
    "import boto3\n",
    "import os\n",
    "from dotenv import load_dotenv"
   ]
  },
  {
   "cell_type": "code",
   "execution_count": 3,
   "metadata": {},
   "outputs": [
    {
     "data": {
      "text/plain": [
       "True"
      ]
     },
     "execution_count": 3,
     "metadata": {},
     "output_type": "execute_result"
    }
   ],
   "source": [
    "load_dotenv()"
   ]
  },
  {
   "cell_type": "code",
   "execution_count": 4,
   "metadata": {},
   "outputs": [],
   "source": [
    "s3 = boto3.client('s3')\n"
   ]
  },
  {
   "cell_type": "markdown",
   "metadata": {},
   "source": [
    "# 1. CRUD operation using BOTO3"
   ]
  },
  {
   "cell_type": "markdown",
   "metadata": {},
   "source": [
    "CRUD Operations in S3<br>\n",
    "\tCreate: Create buckets, upload files.<br>\n",
    "\tRead: Download files, list files in a bucket.<br>\n",
    "\tUpdate: Upload a new version of an object.<br>\n",
    "\tDelete: Remove objects or buckets."
   ]
  },
  {
   "cell_type": "markdown",
   "metadata": {},
   "source": [
    "### Create S3 bucket and upload a file"
   ]
  },
  {
   "cell_type": "code",
   "execution_count": 10,
   "metadata": {},
   "outputs": [],
   "source": [
    "def create_bucket(bucket_name, region=None):\n",
    "    \"\"\"\n",
    "    Description:\n",
    "        Creates an S3 bucket in a specified region. If no region is provided, the bucket is created in the default region.\n",
    "    Parameters:\n",
    "        bucket_name (str): The name of the bucket to create.\n",
    "        region (str): The region where the bucket should be created (optional).\n",
    "    Return:\n",
    "        None\n",
    "    \"\"\"\n",
    "    if region is None:\n",
    "        s3.create_bucket(Bucket=bucket_name)\n",
    "    else:\n",
    "        s3.create_bucket(Bucket=bucket_name,\n",
    "                         CreateBucketConfiguration={'LocationConstraint': region})\n",
    "\n",
    "\n",
    "def main():\n",
    "\tcreate_bucket('prayag.bhoir', 'us-west-2')\n",
    "     \n",
    "if __name__==\"__main__\":\n",
    "     main()\n",
    "    \n"
   ]
  },
  {
   "cell_type": "code",
   "execution_count": 7,
   "metadata": {},
   "outputs": [],
   "source": [
    "def upload_file(file_name, bucket_name, object_name=None):\n",
    "    \"\"\"\n",
    "    Description:\n",
    "        Uploads a file to the specified S3 bucket.\n",
    "    Parameters:\n",
    "        file_name (str): The path to the local file to upload.\n",
    "        bucket_name (str): The name of the S3 bucket.\n",
    "        object_name (str): The S3 object name (optional). Defaults to file_name.\n",
    "    Return:\n",
    "        None\n",
    "    \"\"\"\n",
    "    if object_name is None:\n",
    "        object_name = file_name\n",
    "    s3.upload_file(file_name, bucket_name, object_name)\n",
    "\n",
    "\n",
    "def main():\n",
    "\tupload_file('C:/Users/bhoir/OneDrive/Desktop/pratice_bl/AWS_S3_Operations/crud_files/address_book.json', 'prayag.bhoir', 'address_book.json')\n",
    "\n",
    "     \n",
    "if __name__==\"__main__\":\n",
    "     main()\n",
    "    "
   ]
  },
  {
   "cell_type": "markdown",
   "metadata": {},
   "source": [
    "### Read: Download files, list files in a bucket."
   ]
  },
  {
   "cell_type": "code",
   "execution_count": 15,
   "metadata": {},
   "outputs": [],
   "source": [
    "def download_file(bucket_name, object_name, file_name):\n",
    "    \"\"\"\n",
    "    Description:\n",
    "        Downloads a file from the specified S3 bucket.\n",
    "    Parameters:\n",
    "        bucket_name (str): The name of the S3 bucket.\n",
    "        object_name (str): The name of the S3 object to download.\n",
    "        file_name (str): The local file path where the downloaded file should be saved.\n",
    "    Return:\n",
    "        None\n",
    "    \"\"\"\n",
    "    s3.download_file(bucket_name, object_name, file_name)\n",
    "\n",
    "def main():\n",
    "\tdownload_file('prayag.bhoir', 'address_book.json', 'crud_files/downloaded_file.json')\n",
    "\t\n",
    "     \n",
    "if __name__==\"__main__\":\n",
    "     main()\n",
    "    "
   ]
  },
  {
   "cell_type": "code",
   "execution_count": 16,
   "metadata": {},
   "outputs": [
    {
     "name": "stdout",
     "output_type": "stream",
     "text": [
      "['address_book.json']\n"
     ]
    }
   ],
   "source": [
    "def list_files(bucket_name):\n",
    "    \"\"\"\n",
    "    Description:\n",
    "        Lists all files (objects) in the specified S3 bucket.\n",
    "    Parameters:\n",
    "        bucket_name (str): The name of the S3 bucket.\n",
    "    Return:\n",
    "        List of object keys (file names) in the bucket.\n",
    "    \"\"\"\n",
    "    response = s3.list_objects_v2(Bucket=bucket_name)\n",
    "    \n",
    "    # Check if the bucket contains any files\n",
    "    if 'Contents' in response:\n",
    "        files = [obj['Key'] for obj in response['Contents']]\n",
    "        return files\n",
    "    else:\n",
    "        return []\n",
    "\n",
    "def main():\n",
    "\t  print(list_files('prayag.bhoir'))\n",
    "\t\n",
    "     \n",
    "if __name__==\"__main__\":\n",
    "     main()\n",
    "    "
   ]
  },
  {
   "cell_type": "markdown",
   "metadata": {},
   "source": [
    "### Update: Upload a new version of an object."
   ]
  },
  {
   "cell_type": "code",
   "execution_count": 17,
   "metadata": {},
   "outputs": [],
   "source": [
    "import json"
   ]
  },
  {
   "cell_type": "code",
   "execution_count": 18,
   "metadata": {},
   "outputs": [],
   "source": [
    "def update_file(bucket_name, object_name, update_data):\n",
    "    \"\"\"\n",
    "    Description:\n",
    "        Updates a JSON file in an S3 bucket by downloading, modifying, and re-uploading it.\n",
    "    Parameters:\n",
    "        bucket_name (str): The name of the S3 bucket.\n",
    "        object_name (str): The key (file name) of the JSON file in the bucket.\n",
    "        new_data (dict): The new data to merge/update the existing JSON content.\n",
    "    Return:\n",
    "        None\n",
    "    \"\"\"\n",
    "    response = s3.get_object(Bucket=bucket_name, Key=object_name)\n",
    "    \n",
    "    file_content = response['Body'].read().decode('utf-8')\n",
    "    json_content = json.loads(file_content)\n",
    "    \n",
    "    json_content.update(update_data)\n",
    "    \n",
    "    # Convert updated data back to JSON\n",
    "    updated_content = json.dumps(json_content)\n",
    "    \n",
    "    # Upload the updated JSON file back to S3\n",
    "    s3.put_object(Bucket=bucket_name, Key=object_name, Body=updated_content)\n",
    "    \n",
    "    \n",
    "    \n",
    "def main():\n",
    "    update_data = {\n",
    "        \"first_name\": \"prayag\",\n",
    "        \"last_name\": \"bhoir\",\n",
    "        \"address\": \"1234 MG Road\",\n",
    "        \"city\": \"Panvel\",\n",
    "        \"state\": \"Maharashtra\",\n",
    "        \"zip_code\": \"410206\",\n",
    "        \"phone\": \"8369204930\",\n",
    "        \"email\": \"prayaga.bhoir@elon.com\"\n",
    "    }\n",
    "    update_file('prayag.bhoir', 'crud_files/address_book.json', update_data)\n",
    "    \n",
    "\t\t\n",
    "if __name__==\"__main__\":\n",
    "     main()\n",
    "    "
   ]
  },
  {
   "cell_type": "markdown",
   "metadata": {},
   "source": [
    "### Delete: Remove objects or buckets."
   ]
  },
  {
   "cell_type": "code",
   "execution_count": 8,
   "metadata": {},
   "outputs": [],
   "source": [
    "def delete_object(bucket_name, object_name):\n",
    "    \"\"\"\n",
    "    Description:\n",
    "        Deletes an object from the specified S3 bucket.\n",
    "    Parameters:\n",
    "        bucket_name (str): The name of the S3 bucket.\n",
    "        object_name (str): The name of the S3 object to delete.\n",
    "    Return:\n",
    "        None\n",
    "    \"\"\"\n",
    "    s3.delete_object(Bucket=bucket_name, Key=object_name)\n",
    "\n",
    "\n",
    "def main():\n",
    "\t  delete_object('prayag.bhoir', 'address_book.json')\n",
    "\t\n",
    "     \n",
    "if __name__==\"__main__\":\n",
    "     main()\n",
    "    "
   ]
  },
  {
   "cell_type": "markdown",
   "metadata": {},
   "source": [
    "# 2. Transferring Data to/from S3"
   ]
  },
  {
   "cell_type": "code",
   "execution_count": 9,
   "metadata": {},
   "outputs": [],
   "source": [
    "from boto3.s3.transfer import TransferConfig\n"
   ]
  },
  {
   "cell_type": "code",
   "execution_count": 13,
   "metadata": {},
   "outputs": [
    {
     "name": "stdout",
     "output_type": "stream",
     "text": [
      "Uploading...\n",
      "Done uploading\n",
      "Uploading...\n",
      "Done uploading\n"
     ]
    }
   ],
   "source": [
    "def upload_file(file_name, bucket_name, object_name=None):\n",
    "    \"\"\"\n",
    "    Description:\n",
    "        Uploads a file to the specified S3 bucket.\n",
    "    Parameters:\n",
    "        file_name (str): The path to the local file to upload.\n",
    "        bucket_name (str): The name of the S3 bucket.\n",
    "        object_name (str): The S3 object name (optional). Defaults to file_name.\n",
    "    Return:\n",
    "        None\n",
    "    \"\"\"\n",
    "    \n",
    "    config = TransferConfig(multipart_threshold=1024*1024*25, max_concurrency=30,\n",
    "                         multipart_chunksize=1024*1024*25, use_threads=True)\n",
    "    print(\"Uploading...\")\n",
    "    \n",
    "    if object_name is None:\n",
    "        object_name = file_name\n",
    "    s3.upload_file(file_name, bucket_name, object_name, Config=config)\n",
    "    \n",
    "    print(\"Done uploading\")\n",
    "\n",
    "\n",
    "def main():\n",
    "\tupload_file('C:/Users/bhoir/OneDrive/Desktop/pratice_bl/AWS_S3_Operations/transfer_files/demo.csv', 'prayag.bhoir', 'name.csv')\n",
    "\tupload_file('C:/Users/bhoir/OneDrive/Desktop/pratice_bl/AWS_S3_Operations/transfer_files/Japan in 8K 60fps.mp4', 'prayag.bhoir', 'big_file.mp4')\n",
    "\n",
    "     \n",
    "if __name__==\"__main__\":\n",
    "     main()\n",
    "    "
   ]
  },
  {
   "cell_type": "code",
   "execution_count": null,
   "metadata": {},
   "outputs": [],
   "source": [
    "def download_file(bucket_name, object_name, file_name):\n",
    "    \"\"\"\n",
    "    Description:\n",
    "        Downloads a file from the specified S3 bucket.\n",
    "    Parameters:\n",
    "        bucket_name (str): The name of the S3 bucket.\n",
    "        object_name (str): The name of the S3 object to download.\n",
    "        file_name (str): The local file path where the downloaded file should be saved.\n",
    "    Return:\n",
    "        None\n",
    "    \"\"\"\n",
    "    s3.download_file(bucket_name, object_name, file_name)\n",
    "\n",
    "def main():\n",
    "\tdownload_file('prayag.bhoir', 'name.csv', 'transfer_files/downloaded_file.csv')\n",
    "\t\n",
    "     \n",
    "if __name__==\"__main__\":\n",
    "     main()\n",
    "    "
   ]
  }
 ],
 "metadata": {
  "kernelspec": {
   "display_name": "Python 3",
   "language": "python",
   "name": "python3"
  },
  "language_info": {
   "codemirror_mode": {
    "name": "ipython",
    "version": 3
   },
   "file_extension": ".py",
   "mimetype": "text/x-python",
   "name": "python",
   "nbconvert_exporter": "python",
   "pygments_lexer": "ipython3",
   "version": "3.12.5"
  }
 },
 "nbformat": 4,
 "nbformat_minor": 2
}
