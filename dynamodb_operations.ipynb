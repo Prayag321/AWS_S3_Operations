{
 "cells": [
  {
   "cell_type": "markdown",
   "metadata": {},
   "source": [
    "\"\"\"<br>\n",
    "    @Author: Prayag Bhoir<br>\n",
    "    @Date: 15-09-2024 <br>\n",
    "    @Last Modified by: Prayag Bhoir<br>\n",
    "    @Last Modified time: 15-09-2024 <br>\n",
    "    @Title : Python program to perform CRUD operation using Python BOTO3 and Dynamodb<br>\n",
    "\"\"\""
   ]
  },
  {
   "cell_type": "code",
   "execution_count": 2,
   "metadata": {},
   "outputs": [
    {
     "data": {
      "text/plain": [
       "True"
      ]
     },
     "execution_count": 2,
     "metadata": {},
     "output_type": "execute_result"
    }
   ],
   "source": [
    "from dotenv import load_dotenv\n",
    "load_dotenv()"
   ]
  },
  {
   "cell_type": "code",
   "execution_count": 4,
   "metadata": {},
   "outputs": [],
   "source": [
    "import boto3\n",
    "dynamodb = boto3.resource('dynamodb','ap-south-1')"
   ]
  },
  {
   "cell_type": "markdown",
   "metadata": {},
   "source": [
    "## CRUD Operations\n"
   ]
  },
  {
   "cell_type": "markdown",
   "metadata": {},
   "source": [
    "### 1. Create operation"
   ]
  },
  {
   "cell_type": "code",
   "execution_count": 5,
   "metadata": {},
   "outputs": [
    {
     "name": "stdout",
     "output_type": "stream",
     "text": [
      "Table Users created successfully.\n"
     ]
    }
   ],
   "source": [
    "table = dynamodb.create_table(\n",
    "    TableName='Users',\n",
    "    KeySchema=[\n",
    "        {\n",
    "            'AttributeName': 'UserID',\n",
    "            'KeyType': 'HASH'  # Partition key\n",
    "        },\n",
    "    ],\n",
    "    AttributeDefinitions=[\n",
    "        {\n",
    "            'AttributeName': 'UserID',\n",
    "            'AttributeType': 'S'  # String\n",
    "        },\n",
    "    ],\n",
    "    ProvisionedThroughput={\n",
    "        'ReadCapacityUnits': 10,\n",
    "        'WriteCapacityUnits': 10\n",
    "    }\n",
    ")\n",
    "table.wait_until_exists()\n",
    "print(f'Table {table.table_name} created successfully.')\n"
   ]
  },
  {
   "cell_type": "markdown",
   "metadata": {},
   "source": [
    "### 2. Insert (Create) Items"
   ]
  },
  {
   "cell_type": "code",
   "execution_count": 11,
   "metadata": {},
   "outputs": [
    {
     "name": "stdout",
     "output_type": "stream",
     "text": [
      "Item added successfully.\n"
     ]
    }
   ],
   "source": [
    "table = dynamodb.Table('Users')\n",
    "table.put_item(\n",
    "    Item={\n",
    "        'UserID': '1',\n",
    "        'Name': 'Prayag Bhoir',\n",
    "        'Email': 'prayagmb10it@gmail.com'\n",
    "    }\n",
    ")\n",
    "print(\"Item added successfully.\")\n"
   ]
  },
  {
   "cell_type": "markdown",
   "metadata": {},
   "source": [
    "### 3. Read (Query) Items"
   ]
  },
  {
   "cell_type": "code",
   "execution_count": 12,
   "metadata": {},
   "outputs": [
    {
     "name": "stdout",
     "output_type": "stream",
     "text": [
      "{'UserID': '1', 'Name': 'Prayag Bhoir', 'Email': 'prayagmb10it@gmail.com'}\n"
     ]
    }
   ],
   "source": [
    "response = table.get_item(Key={'UserID': '1'})\n",
    "item = response.get('Item')\n",
    "if item:\n",
    "    print(item)\n",
    "else:\n",
    "    print('Item not found.')\n"
   ]
  },
  {
   "cell_type": "markdown",
   "metadata": {},
   "source": [
    "### 4. Update item"
   ]
  },
  {
   "cell_type": "code",
   "execution_count": 13,
   "metadata": {},
   "outputs": [
    {
     "name": "stdout",
     "output_type": "stream",
     "text": [
      "Item updated successfully.\n"
     ]
    }
   ],
   "source": [
    "table.update_item(\n",
    "    Key={'UserID': '1'},\n",
    "    UpdateExpression=\"set Email = :e\",\n",
    "    ExpressionAttributeValues={':e': 'nanabhoir321@gmai.com'}\n",
    ")\n",
    "print(\"Item updated successfully.\")\n"
   ]
  },
  {
   "cell_type": "code",
   "execution_count": 14,
   "metadata": {},
   "outputs": [
    {
     "name": "stdout",
     "output_type": "stream",
     "text": [
      "{'UserID': '1', 'Email': 'nanabhoir321@gmai.com', 'Name': 'Prayag Bhoir'}\n"
     ]
    }
   ],
   "source": [
    "response = table.get_item(Key={'UserID': '1'})\n",
    "item = response.get('Item')\n",
    "if item:\n",
    "    print(item)\n",
    "else:\n",
    "    print('Item not found.')\n"
   ]
  },
  {
   "cell_type": "markdown",
   "metadata": {},
   "source": [
    "### 5. Delete Items"
   ]
  },
  {
   "cell_type": "code",
   "execution_count": 15,
   "metadata": {},
   "outputs": [
    {
     "name": "stdout",
     "output_type": "stream",
     "text": [
      "Item deleted successfully.\n"
     ]
    }
   ],
   "source": [
    "table.delete_item(\n",
    "    Key={'UserID': '1'}\n",
    ")\n",
    "print(\"Item deleted successfully.\")\n"
   ]
  },
  {
   "cell_type": "markdown",
   "metadata": {},
   "source": [
    "## 2. Import and Export Data Using DynamoDB"
   ]
  },
  {
   "cell_type": "markdown",
   "metadata": {},
   "source": [
    "### Basic import"
   ]
  },
  {
   "cell_type": "code",
   "execution_count": 9,
   "metadata": {},
   "outputs": [],
   "source": [
    "with table.batch_writer() as batch:\n",
    "    batch.put_item(Item={'UserID': '2', 'Name': 'Deven'})\n",
    "    batch.put_item(Item={'UserID': '3', 'Name': 'Shiv'})\n",
    "    batch.put_item(Item={'UserID': '4', 'Name': 'Ayush'})\n"
   ]
  },
  {
   "cell_type": "markdown",
   "metadata": {},
   "source": [
    "### Export to csv"
   ]
  },
  {
   "cell_type": "code",
   "execution_count": 10,
   "metadata": {},
   "outputs": [
    {
     "name": "stdout",
     "output_type": "stream",
     "text": [
      "Data exported successfully.\n"
     ]
    }
   ],
   "source": [
    "import csv\n",
    "\n",
    "response = table.scan()\n",
    "items = response['Items']\n",
    "\n",
    "with open('output.csv', 'w', newline='') as csvfile:\n",
    "    writer = csv.DictWriter(csvfile, fieldnames=['UserID', 'Name', 'Email'])\n",
    "    writer.writeheader()\n",
    "    for item in items:\n",
    "        writer.writerow(item)\n",
    "print('Data exported successfully.')\n"
   ]
  }
 ],
 "metadata": {
  "kernelspec": {
   "display_name": "Python 3",
   "language": "python",
   "name": "python3"
  },
  "language_info": {
   "codemirror_mode": {
    "name": "ipython",
    "version": 3
   },
   "file_extension": ".py",
   "mimetype": "text/x-python",
   "name": "python",
   "nbconvert_exporter": "python",
   "pygments_lexer": "ipython3",
   "version": "3.12.6"
  }
 },
 "nbformat": 4,
 "nbformat_minor": 2
}
