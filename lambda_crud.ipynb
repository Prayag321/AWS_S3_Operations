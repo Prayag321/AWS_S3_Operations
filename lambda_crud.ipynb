{
 "cells": [
  {
   "cell_type": "markdown",
   "metadata": {},
   "source": [
    "\"\"\"<br>\n",
    "    @Author: Prayag Bhoir<br>\n",
    "    @Date: 11-09-2024 <br>\n",
    "    @Last Modified by: Prayag Bhoir<br>\n",
    "    @Last Modified time: 11-09-2024 <br>\n",
    "    @Title : Python program on crud operation using  AWS lambda<br>\n",
    "\"\"\""
   ]
  },
  {
   "cell_type": "markdown",
   "metadata": {},
   "source": [
    "## Lambda function with crud functions"
   ]
  },
  {
   "cell_type": "markdown",
   "metadata": {},
   "source": [
    "<b>Note: This function are run on the aws lambda console <br>\n",
    "This is for the documentation purpuses only.<b>"
   ]
  },
  {
   "cell_type": "code",
   "execution_count": 1,
   "metadata": {},
   "outputs": [],
   "source": [
    "import json\n",
    "import boto3\n",
    "\n",
    "# Initialize S3 client\n",
    "s3 = boto3.client('s3')\n",
    "\n",
    "# Define the S3 bucket name\n",
    "bucket_name = 'lambda.crud.bucket'\n",
    "\n",
    "def lambda_handler(event, context):\n",
    "    # Get operation type from the event or API input\n",
    "    operation = event.get('operation', '')\n",
    "\n",
    "    if operation == 'create':\n",
    "        return create_file(event)\n",
    "    elif operation == 'read':\n",
    "        return read_file(event)\n",
    "    elif operation == 'update':\n",
    "        return update_file(event)\n",
    "    elif operation == 'delete':\n",
    "        return delete_file(event)\n",
    "    else:\n",
    "        return {\n",
    "            'statusCode': 400,\n",
    "            'body': json.dumps('Invalid operation type. Use create, read, update, or delete.')\n",
    "        }\n",
    "\n",
    "# 1. Create (Upload) a File to S3\n",
    "def create_file(event):\n",
    "    try:\n",
    "        file_name = event['file_name']\n",
    "        file_content = event['file_content']\n",
    "        \n",
    "        # Upload file to S3\n",
    "        s3.put_object(Bucket=bucket_name, Key=file_name, Body=file_content)\n",
    "        \n",
    "        return {\n",
    "            'statusCode': 200,\n",
    "            'body': json.dumps(f'{file_name} uploaded successfully to {bucket_name}.')\n",
    "        }\n",
    "    except Exception as e:\n",
    "        return {\n",
    "            'statusCode': 500,\n",
    "            'body': json.dumps(f'Error uploading file: {str(e)}')\n",
    "        }\n",
    "\n",
    "# 2. Read (Retrieve) a File from S3\n",
    "def read_file(event):\n",
    "    try:\n",
    "        file_name = event['file_name']\n",
    "        \n",
    "        # Get file from S3\n",
    "        response = s3.get_object(Bucket=bucket_name, Key=file_name)\n",
    "        file_content = response['Body'].read().decode('utf-8')\n",
    "        \n",
    "        return {\n",
    "            'statusCode': 200,\n",
    "            'body': json.dumps(f'File Content: {file_content}')\n",
    "        }\n",
    "    except Exception as e:\n",
    "        return {\n",
    "            'statusCode': 500,\n",
    "            'body': json.dumps(f'Error retrieving file: {str(e)}')\n",
    "        }\n",
    "\n",
    "# 3. Update (Overwrite) a File in S3\n",
    "def update_file(event):\n",
    "    try:\n",
    "        file_name = event['file_name']\n",
    "        updated_content = event['updated_content']\n",
    "        \n",
    "        # Overwrite the existing file in S3\n",
    "        s3.put_object(Bucket=bucket_name, Key=file_name, Body=updated_content)\n",
    "        \n",
    "        return {\n",
    "            'statusCode': 200,\n",
    "            'body': json.dumps(f'{file_name} updated successfully in {bucket_name}.')\n",
    "        }\n",
    "    except Exception as e:\n",
    "        return {\n",
    "            'statusCode': 500,\n",
    "            'body': json.dumps(f'Error updating file: {str(e)}')\n",
    "        }\n",
    "\n",
    "# 4. Delete a File from S3\n",
    "def delete_file(event):\n",
    "    try:\n",
    "        file_name = event['file_name']\n",
    "        \n",
    "        # Delete file from S3\n",
    "        s3.delete_object(Bucket=bucket_name, Key=file_name)\n",
    "        \n",
    "        return {\n",
    "            'statusCode': 200,\n",
    "            'body': json.dumps(f'{file_name} deleted successfully from {bucket_name}.')\n",
    "        }\n",
    "    except Exception as e:\n",
    "        return {\n",
    "            'statusCode': 500,\n",
    "            'body': json.dumps(f'Error deleting file: {str(e)}')\n",
    "        }\n"
   ]
  },
  {
   "cell_type": "markdown",
   "metadata": {},
   "source": [
    "## Test Events/Triggers"
   ]
  },
  {
   "cell_type": "markdown",
   "metadata": {},
   "source": [
    "### Create event"
   ]
  },
  {
   "cell_type": "markdown",
   "metadata": {
    "vscode": {
     "languageId": "raw"
    }
   },
   "source": [
    "{<br>\n",
    "  \"operation\": \"create\",<br>\n",
    "  \"file_name\": \"pb_bio.txt\",<br>\n",
    "  \"file_content\": \"My name is prayag\"\n",
    "}"
   ]
  },
  {
   "cell_type": "markdown",
   "metadata": {},
   "source": [
    "### Read event"
   ]
  },
  {
   "cell_type": "markdown",
   "metadata": {
    "vscode": {
     "languageId": "raw"
    }
   },
   "source": [
    "{<br>\n",
    "  \"operation\": \"read\",<br>\n",
    "  \"file_name\": \"pb_bio.txt\"<br>\n",
    "}"
   ]
  },
  {
   "cell_type": "markdown",
   "metadata": {},
   "source": [
    "### Update event"
   ]
  },
  {
   "cell_type": "markdown",
   "metadata": {
    "vscode": {
     "languageId": "raw"
    }
   },
   "source": [
    "{<br>\n",
    "  \"operation\": \"update\",<br>\n",
    "  \"file_name\": \"pb_bio.txt\",<br>\n",
    "  \"updated_content\": \"My name is prayag and i live in panvel\"<br>\n",
    "}"
   ]
  },
  {
   "cell_type": "markdown",
   "metadata": {},
   "source": [
    "### Delete event"
   ]
  },
  {
   "cell_type": "markdown",
   "metadata": {
    "vscode": {
     "languageId": "raw"
    }
   },
   "source": [
    "{<br>\n",
    "  \"operation\": \"delete\",<br>\n",
    "  \"file_name\": \"pb_bio.txt\"<br>\n",
    "}"
   ]
  }
 ],
 "metadata": {
  "kernelspec": {
   "display_name": "Python 3",
   "language": "python",
   "name": "python3"
  },
  "language_info": {
   "codemirror_mode": {
    "name": "ipython",
    "version": 3
   },
   "file_extension": ".py",
   "mimetype": "text/x-python",
   "name": "python",
   "nbconvert_exporter": "python",
   "pygments_lexer": "ipython3",
   "version": "3.12.6"
  }
 },
 "nbformat": 4,
 "nbformat_minor": 2
}
